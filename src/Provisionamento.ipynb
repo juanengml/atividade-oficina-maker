{
 "cells": [
  {
   "cell_type": "code",
   "execution_count": 2,
   "id": "ba3458fc-be2c-4184-9952-8ced6042add8",
   "metadata": {},
   "outputs": [
    {
     "name": "stdout",
     "output_type": "stream",
     "text": [
      "Collecting docker\n",
      "  Using cached docker-5.0.3-py2.py3-none-any.whl (146 kB)\n",
      "Requirement already satisfied: requests!=2.18.0,>=2.14.2 in /home/juan-nascimento/Modelos/atividade-oficina-maker/env/lib/python3.8/site-packages (from docker) (2.27.1)\n",
      "Requirement already satisfied: websocket-client>=0.32.0 in /home/juan-nascimento/Modelos/atividade-oficina-maker/env/lib/python3.8/site-packages (from docker) (1.3.2)\n",
      "Requirement already satisfied: certifi>=2017.4.17 in /home/juan-nascimento/Modelos/atividade-oficina-maker/env/lib/python3.8/site-packages (from requests!=2.18.0,>=2.14.2->docker) (2022.5.18.1)\n",
      "Requirement already satisfied: urllib3<1.27,>=1.21.1 in /home/juan-nascimento/Modelos/atividade-oficina-maker/env/lib/python3.8/site-packages (from requests!=2.18.0,>=2.14.2->docker) (1.26.9)\n",
      "Requirement already satisfied: idna<4,>=2.5 in /home/juan-nascimento/Modelos/atividade-oficina-maker/env/lib/python3.8/site-packages (from requests!=2.18.0,>=2.14.2->docker) (3.3)\n",
      "Requirement already satisfied: charset-normalizer~=2.0.0 in /home/juan-nascimento/Modelos/atividade-oficina-maker/env/lib/python3.8/site-packages (from requests!=2.18.0,>=2.14.2->docker) (2.0.12)\n",
      "Installing collected packages: docker\n",
      "Successfully installed docker-5.0.3\n",
      "\u001b[33mWARNING: You are using pip version 22.0.4; however, version 22.1.1 is available.\n",
      "You should consider upgrading via the '/home/juan-nascimento/Modelos/atividade-oficina-maker/env/bin/python -m pip install --upgrade pip' command.\u001b[0m\u001b[33m\n",
      "\u001b[0m"
     ]
    }
   ],
   "source": [
    "!pip install docker"
   ]
  },
  {
   "cell_type": "code",
   "execution_count": 1,
   "id": "48789acd",
   "metadata": {
    "vscode": {
     "languageId": "plaintext"
    }
   },
   "outputs": [],
   "source": [
    "from infra import Model"
   ]
  },
  {
   "cell_type": "code",
   "execution_count": 47,
   "id": "07c416c7",
   "metadata": {
    "vscode": {
     "languageId": "plaintext"
    }
   },
   "outputs": [],
   "source": [
    "model = Model()"
   ]
  },
  {
   "cell_type": "markdown",
   "id": "0de82b9b-9748-4509-a31f-8de8cdfdc19a",
   "metadata": {
    "vscode": {
     "languageId": "plaintext"
    }
   },
   "source": [
    "## Create Infra"
   ]
  },
  {
   "cell_type": "code",
   "execution_count": 48,
   "id": "aba1a806-0258-46c3-bb88-3dfb42e239f3",
   "metadata": {},
   "outputs": [
    {
     "name": "stdout",
     "output_type": "stream",
     "text": [
      "Criando volume container\n",
      "Criando gerenciador do container\n",
      "Criando NoSQL Database\n",
      "Criando Banco Relacional MySQL\n",
      "Criando SGBD Metabase\n",
      "Criando Elyra para pipeline\n"
     ]
    }
   ],
   "source": [
    "model.apply()"
   ]
  },
  {
   "cell_type": "code",
   "execution_count": 49,
   "id": "0dfe15a0-3fc4-414e-a2a9-fe904e232b08",
   "metadata": {},
   "outputs": [
    {
     "data": {
      "text/plain": [
       "{'elyra-container': <Container: 341b9e4659>,\n",
       " 'metabase-container': <Container: 972955c214>,\n",
       " 'mongodb-container': <Container: 58049e4675>,\n",
       " 'mysql-container': <Container: e3815852c6>,\n",
       " 'portainer-container': <Container: a0a9f6b5e1>}"
      ]
     },
     "execution_count": 49,
     "metadata": {},
     "output_type": "execute_result"
    }
   ],
   "source": [
    "model.get_status()"
   ]
  },
  {
   "cell_type": "markdown",
   "id": "b57a8823-2f17-48ae-ae88-820b9105bf51",
   "metadata": {},
   "source": [
    "## Acesso Orquestrador de Pipeline "
   ]
  },
  {
   "cell_type": "code",
   "execution_count": 50,
   "id": "64b25378-a3d3-4875-b449-22f37968305b",
   "metadata": {},
   "outputs": [],
   "source": [
    "import re"
   ]
  },
  {
   "cell_type": "code",
   "execution_count": 51,
   "id": "d1c2838e-f2bd-4667-9e95-2543875f2b84",
   "metadata": {},
   "outputs": [
    {
     "name": "stdout",
     "output_type": "stream",
     "text": [
      "http://127.0.0.1:8888/lab?token=293a7b39ae9d49b1d51362c484090be970efbb94a66d9b53\n"
     ]
    }
   ],
   "source": [
    "logs = model.get_status()['elyra-container'].logs()\n",
    "\n",
    "link = re.findall(r\"(?<=http:)(.*)(?=token)\", str(logs))[0].split(\"ServerApp\")[1].split()[2].replace(\"\\\\n[I\",\"\")\n",
    "print(link)\n"
   ]
  },
  {
   "cell_type": "markdown",
   "id": "85c8831c-86e7-4756-aa81-2bb9961b1340",
   "metadata": {},
   "source": [
    "## Destroy Infra "
   ]
  },
  {
   "cell_type": "code",
   "execution_count": 45,
   "id": "99b45a5b-a4e5-45a4-8e3c-f757c03fc9a2",
   "metadata": {},
   "outputs": [],
   "source": [
    "model.destroy()"
   ]
  },
  {
   "cell_type": "code",
   "execution_count": 46,
   "id": "7e533b97-a094-4675-b119-7b9dfee5af67",
   "metadata": {},
   "outputs": [
    {
     "data": {
      "text/plain": [
       "{'elyra-container': 'offline',\n",
       " 'metabase-container': 'offline',\n",
       " 'mongodb-container': 'offline',\n",
       " 'mysql-container': 'offline',\n",
       " 'portainer-container': 'offline'}"
      ]
     },
     "execution_count": 46,
     "metadata": {},
     "output_type": "execute_result"
    }
   ],
   "source": [
    "model.get_status()"
   ]
  },
  {
   "cell_type": "code",
   "execution_count": null,
   "id": "11d4b635-efba-4754-bfc0-6bef965aa3f4",
   "metadata": {},
   "outputs": [],
   "source": []
  }
 ],
 "metadata": {
  "kernelspec": {
   "display_name": "Python 3 (ipykernel)",
   "language": "python",
   "name": "python3"
  },
  "language_info": {
   "codemirror_mode": {
    "name": "ipython",
    "version": 3
   },
   "file_extension": ".py",
   "mimetype": "text/x-python",
   "name": "python",
   "nbconvert_exporter": "python",
   "pygments_lexer": "ipython3",
   "version": "3.8.10"
  }
 },
 "nbformat": 4,
 "nbformat_minor": 5
}
