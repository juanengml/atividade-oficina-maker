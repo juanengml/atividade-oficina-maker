{
 "cells": [
  {
   "cell_type": "code",
   "execution_count": 38,
   "id": "5ac26d00",
   "metadata": {},
   "outputs": [
    {
     "name": "stdout",
     "output_type": "stream",
     "text": [
      "Requirement already satisfied: pypiwin32 in c:\\users\\andréa biavatti\\appdata\\local\\programs\\python\\python38\\lib\\site-packages (223)Note: you may need to restart the kernel to use updated packages.\n",
      "Requirement already satisfied: pywin32>=223 in c:\\users\\andréa biavatti\\appdata\\local\\programs\\python\\python38\\lib\\site-packages (from pypiwin32) (227)\n",
      "\n"
     ]
    }
   ],
   "source": [
    "pip install pypiwin32"
   ]
  },
  {
   "cell_type": "code",
   "execution_count": 39,
   "id": "e3d27edd",
   "metadata": {},
   "outputs": [
    {
     "name": "stdout",
     "output_type": "stream",
     "text": [
      "Requirement already satisfied: docker in c:\\users\\andréa biavatti\\appdata\\local\\programs\\python\\python38\\lib\\site-packages (5.0.3)\n",
      "Requirement already satisfied: websocket-client>=0.32.0 in c:\\users\\andréa biavatti\\appdata\\local\\programs\\python\\python38\\lib\\site-packages (from docker) (1.3.2)\n",
      "Requirement already satisfied: requests!=2.18.0,>=2.14.2 in c:\\users\\andréa biavatti\\appdata\\local\\programs\\python\\python38\\lib\\site-packages (from docker) (2.27.1)\n",
      "Requirement already satisfied: pywin32==227 in c:\\users\\andréa biavatti\\appdata\\local\\programs\\python\\python38\\lib\\site-packages (from docker) (227)\n",
      "Requirement already satisfied: idna<4,>=2.5 in c:\\users\\andréa biavatti\\appdata\\local\\programs\\python\\python38\\lib\\site-packages (from requests!=2.18.0,>=2.14.2->docker) (3.3)\n",
      "Requirement already satisfied: urllib3<1.27,>=1.21.1 in c:\\users\\andréa biavatti\\appdata\\local\\programs\\python\\python38\\lib\\site-packages (from requests!=2.18.0,>=2.14.2->docker) (1.26.8)\n",
      "Requirement already satisfied: charset-normalizer~=2.0.0 in c:\\users\\andréa biavatti\\appdata\\local\\programs\\python\\python38\\lib\\site-packages (from requests!=2.18.0,>=2.14.2->docker) (2.0.12)\n",
      "Requirement already satisfied: certifi>=2017.4.17 in c:\\users\\andréa biavatti\\appdata\\local\\programs\\python\\python38\\lib\\site-packages (from requests!=2.18.0,>=2.14.2->docker) (2021.10.8)\n",
      "Note: you may need to restart the kernel to use updated packages.\n"
     ]
    }
   ],
   "source": [
    "pip install docker"
   ]
  },
  {
   "cell_type": "code",
   "execution_count": 42,
   "id": "67039b2b",
   "metadata": {},
   "outputs": [],
   "source": [
    "import docker"
   ]
  },
  {
   "cell_type": "code",
   "execution_count": 43,
   "id": "fb927ac9",
   "metadata": {},
   "outputs": [],
   "source": [
    "client = docker.from_env()"
   ]
  },
  {
   "cell_type": "code",
   "execution_count": 44,
   "id": "a10fbf11",
   "metadata": {},
   "outputs": [],
   "source": [
    "volume = client.volumes.create(name='portainer_data_01')"
   ]
  },
  {
   "cell_type": "code",
   "execution_count": 45,
   "id": "126be4d6",
   "metadata": {},
   "outputs": [],
   "source": [
    "gerenciador_container = client.containers.run(\"portainer/portainer-ce\", \n",
    "                         name=\"gerenciador_container\",\n",
    "                         ports={\"8000/tcp\":8000,\"9000/tcp\":9000},\n",
    "                         restart_policy={\"Name\": \"always\"},\n",
    "                         volumes=['/var/run/docker.sock:/var/run/docker.sock','portainer_data_01:/data'],            \n",
    "                         detach=True)"
   ]
  },
  {
   "cell_type": "code",
   "execution_count": 46,
   "id": "9d2df077",
   "metadata": {},
   "outputs": [
    {
     "data": {
      "text/plain": [
       "[<Container: bc495fb106>]"
      ]
     },
     "execution_count": 46,
     "metadata": {},
     "output_type": "execute_result"
    }
   ],
   "source": [
    "client.containers.list()"
   ]
  },
  {
   "cell_type": "code",
   "execution_count": 47,
   "id": "3f1ec648",
   "metadata": {},
   "outputs": [],
   "source": [
    "banco_dados = client.containers.run(\"mongo:latest\", \n",
    "                         name=\"banco_nosqgl_mongodb\",\n",
    "                         ports={\"27017/tcp\":27017},\n",
    "                         restart_policy={\"Name\": \"always\"},\n",
    "                         detach=True)"
   ]
  },
  {
   "cell_type": "code",
   "execution_count": 48,
   "id": "a16f4c4e",
   "metadata": {},
   "outputs": [],
   "source": [
    "gerenciador_banco = client.containers.run(\"metabase/metabase\", \n",
    "                         name=\"sgbd_metabase\",\n",
    "                         ports={\"3000/tcp\":3000},\n",
    "                         restart_policy={\"Name\": \"always\"},\n",
    "                         detach=True)"
   ]
  },
  {
   "cell_type": "code",
   "execution_count": 50,
   "id": "f728e951",
   "metadata": {},
   "outputs": [],
   "source": [
    "acessos_sql = {'MYSQL_ROOT_PASSWORD':'RootPassword', 'MYSQL_DATABASE':'Backoffice', 'MYSQL_USER':'MainUser', 'MYSQL_PASSWORD':'MainPassword'}\n",
    "banco_dados_sql = client.containers.run(\"mysql:latest\", \n",
    "                         name=\"banco_sql_mysql\",\n",
    "                         ports={\"3306/tcp\":3306},\n",
    "                         restart_policy={\"Name\": \"always\"},\n",
    "                         environment = acessos_sql,\n",
    "                         detach=True)"
   ]
  },
  {
   "cell_type": "code",
   "execution_count": null,
   "id": "81ab430e",
   "metadata": {},
   "outputs": [],
   "source": [
    "elyra = client.containers.run(\"elyra/elyra:dev\", \n",
    "                         user=\"root\",\n",
    "                         environment=[\"GRANT_SUDO=yes\"],\n",
    "                         command=\"jupyter lab --debug --allow-root\",\n",
    "                         name=\"elyra\",\n",
    "                         ports={\"8888/tcp\":8888},\n",
    "                         detach=True)"
   ]
  }
 ],
 "metadata": {
  "kernelspec": {
   "display_name": "Python 3 (ipykernel)",
   "language": "python",
   "name": "python3"
  },
  "language_info": {
   "codemirror_mode": {
    "name": "ipython",
    "version": 3
   },
   "file_extension": ".py",
   "mimetype": "text/x-python",
   "name": "python",
   "nbconvert_exporter": "python",
   "pygments_lexer": "ipython3",
   "version": "3.8.0"
  }
 },
 "nbformat": 4,
 "nbformat_minor": 5
}
