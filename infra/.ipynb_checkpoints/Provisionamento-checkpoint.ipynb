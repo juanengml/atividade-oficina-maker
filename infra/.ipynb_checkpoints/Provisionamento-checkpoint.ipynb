{
 "cells": [
  {
   "cell_type": "code",
   "execution_count": 2,
   "id": "ba3458fc-be2c-4184-9952-8ced6042add8",
   "metadata": {},
   "outputs": [
    {
     "name": "stdout",
     "output_type": "stream",
     "text": [
      "Collecting docker\n",
      "  Using cached docker-5.0.3-py2.py3-none-any.whl (146 kB)\n",
      "Requirement already satisfied: requests!=2.18.0,>=2.14.2 in /home/juan-nascimento/Modelos/atividade-oficina-maker/env/lib/python3.8/site-packages (from docker) (2.27.1)\n",
      "Requirement already satisfied: websocket-client>=0.32.0 in /home/juan-nascimento/Modelos/atividade-oficina-maker/env/lib/python3.8/site-packages (from docker) (1.3.2)\n",
      "Requirement already satisfied: certifi>=2017.4.17 in /home/juan-nascimento/Modelos/atividade-oficina-maker/env/lib/python3.8/site-packages (from requests!=2.18.0,>=2.14.2->docker) (2022.5.18.1)\n",
      "Requirement already satisfied: urllib3<1.27,>=1.21.1 in /home/juan-nascimento/Modelos/atividade-oficina-maker/env/lib/python3.8/site-packages (from requests!=2.18.0,>=2.14.2->docker) (1.26.9)\n",
      "Requirement already satisfied: idna<4,>=2.5 in /home/juan-nascimento/Modelos/atividade-oficina-maker/env/lib/python3.8/site-packages (from requests!=2.18.0,>=2.14.2->docker) (3.3)\n",
      "Requirement already satisfied: charset-normalizer~=2.0.0 in /home/juan-nascimento/Modelos/atividade-oficina-maker/env/lib/python3.8/site-packages (from requests!=2.18.0,>=2.14.2->docker) (2.0.12)\n",
      "Installing collected packages: docker\n",
      "Successfully installed docker-5.0.3\n",
      "\u001b[33mWARNING: You are using pip version 22.0.4; however, version 22.1.1 is available.\n",
      "You should consider upgrading via the '/home/juan-nascimento/Modelos/atividade-oficina-maker/env/bin/python -m pip install --upgrade pip' command.\u001b[0m\u001b[33m\n",
      "\u001b[0m"
     ]
    }
   ],
   "source": [
    "!pip install docker"
   ]
  },
  {
   "cell_type": "code",
   "execution_count": 1,
   "id": "48789acd",
   "metadata": {
    "vscode": {
     "languageId": "plaintext"
    }
   },
   "outputs": [],
   "source": [
    "from infra import Model"
   ]
  },
  {
   "cell_type": "code",
   "execution_count": 2,
   "id": "07c416c7",
   "metadata": {
    "vscode": {
     "languageId": "plaintext"
    }
   },
   "outputs": [],
   "source": [
    "model = Model()"
   ]
  },
  {
   "cell_type": "code",
   "execution_count": null,
   "id": "6620a360",
   "metadata": {
    "vscode": {
     "languageId": "plaintext"
    }
   },
   "outputs": [],
   "source": []
  },
  {
   "cell_type": "code",
   "execution_count": 3,
   "id": "aba1a806-0258-46c3-bb88-3dfb42e239f3",
   "metadata": {},
   "outputs": [
    {
     "name": "stdout",
     "output_type": "stream",
     "text": [
      "Criando volume container\n",
      "Criando gerenciador do container\n",
      "Criando NoSQL Database\n",
      "Criando Banco Relacional MySQL\n",
      "Criando SGBD Metabase\n",
      "Criando Elyra para pipeline\n"
     ]
    }
   ],
   "source": [
    "model.apply()"
   ]
  },
  {
   "cell_type": "code",
   "execution_count": 4,
   "id": "0dfe15a0-3fc4-414e-a2a9-fe904e232b08",
   "metadata": {},
   "outputs": [
    {
     "ename": "AttributeError",
     "evalue": "'Model' object has no attribute 'status'",
     "output_type": "error",
     "traceback": [
      "\u001b[0;31m---------------------------------------------------------------------------\u001b[0m",
      "\u001b[0;31mAttributeError\u001b[0m                            Traceback (most recent call last)",
      "Input \u001b[0;32mIn [4]\u001b[0m, in \u001b[0;36m<cell line: 1>\u001b[0;34m()\u001b[0m\n\u001b[0;32m----> 1\u001b[0m \u001b[43mmodel\u001b[49m\u001b[38;5;241;43m.\u001b[39;49m\u001b[43mget_status\u001b[49m\u001b[43m(\u001b[49m\u001b[43m)\u001b[49m\n",
      "File \u001b[0;32m~/Modelos/atividade-oficina-maker/src/infra.py:88\u001b[0m, in \u001b[0;36mModel.get_status\u001b[0;34m(self)\u001b[0m\n\u001b[1;32m     87\u001b[0m \u001b[38;5;28;01mdef\u001b[39;00m \u001b[38;5;21mget_status\u001b[39m(\u001b[38;5;28mself\u001b[39m):\n\u001b[0;32m---> 88\u001b[0m     \u001b[38;5;28;01mreturn\u001b[39;00m \u001b[38;5;28;43mself\u001b[39;49m\u001b[38;5;241;43m.\u001b[39;49m\u001b[43mstatus\u001b[49m\n",
      "\u001b[0;31mAttributeError\u001b[0m: 'Model' object has no attribute 'status'"
     ]
    }
   ],
   "source": [
    "model.get_status()"
   ]
  },
  {
   "cell_type": "code",
   "execution_count": 5,
   "id": "99b45a5b-a4e5-45a4-8e3c-f757c03fc9a2",
   "metadata": {},
   "outputs": [],
   "source": [
    "model.destroy()"
   ]
  },
  {
   "cell_type": "code",
   "execution_count": 6,
   "id": "7e533b97-a094-4675-b119-7b9dfee5af67",
   "metadata": {},
   "outputs": [
    {
     "data": {
      "text/plain": [
       "{'elyra-container': 'offline',\n",
       " 'metabase-container': 'offline',\n",
       " 'mongodb-container': 'offline',\n",
       " 'mysql-container': 'offline',\n",
       " 'portainer-container': 'offline'}"
      ]
     },
     "execution_count": 6,
     "metadata": {},
     "output_type": "execute_result"
    }
   ],
   "source": [
    "model.get_status()"
   ]
  },
  {
   "cell_type": "code",
   "execution_count": null,
   "id": "11d4b635-efba-4754-bfc0-6bef965aa3f4",
   "metadata": {},
   "outputs": [],
   "source": []
  }
 ],
 "metadata": {
  "kernelspec": {
   "display_name": "Python 3 (ipykernel)",
   "language": "python",
   "name": "python3"
  },
  "language_info": {
   "codemirror_mode": {
    "name": "ipython",
    "version": 3
   },
   "file_extension": ".py",
   "mimetype": "text/x-python",
   "name": "python",
   "nbconvert_exporter": "python",
   "pygments_lexer": "ipython3",
   "version": "3.8.10"
  }
 },
 "nbformat": 4,
 "nbformat_minor": 5
}
